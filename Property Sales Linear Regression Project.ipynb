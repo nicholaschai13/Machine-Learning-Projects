{
 "cells": [
  {
   "cell_type": "markdown",
   "id": "daf191d9",
   "metadata": {},
   "source": [
    "# Property Sales Linear Regression Project"
   ]
  },
  {
   "cell_type": "markdown",
   "id": "57f1ac24",
   "metadata": {},
   "source": [
    "## Table of Contents \n",
    "1. Introduction\n",
    "2. Preparing the Data\n",
    "3. Cleaning the Data\n",
    "4. Exploratory Data\n",
    "5. Analyzing the Data\n",
    "6. Results\n",
    "7. Conclusion"
   ]
  },
  {
   "cell_type": "markdown",
   "id": "88806bf8",
   "metadata": {},
   "source": [
    "## Introduction\n",
    "\n",
    "Have you ever wondered how real estate owners establish their own sale price of the buildings they own? \n",
    "\n",
    "This project analyzes data from a data set that contains sales data of every building sold in the New York City property market over a 12-month period.  \n",
    "\n",
    "The goal of this project is to scope, prep, analyze, and create a machine learning model to solve our question: \n",
    "\n",
    "Which variables are most closely correlated with the prediction of sale price of these properties?\n",
    "\n"
   ]
  },
  {
   "cell_type": "markdown",
   "id": "92b3d4ab",
   "metadata": {},
   "source": [
    "## Preparing the Data\n",
    " \n",
    "There are numerous packages that are needed for this project imported down below."
   ]
  },
  {
   "cell_type": "code",
   "execution_count": 1,
   "id": "59578793",
   "metadata": {},
   "outputs": [],
   "source": [
    "# We will be using the module LinearRegression from sklearn.linear_model\n",
    "import pandas as pd\n",
    "import numpy as np\n",
    "import matplotlib.pyplot as plt\n",
    "import seaborn as sns\n",
    "from sklearn.model_selection import train_test_split\n",
    "from sklearn.linear_model import LinearRegression"
   ]
  },
  {
   "cell_type": "code",
   "execution_count": 2,
   "id": "cf71b24a",
   "metadata": {},
   "outputs": [
    {
     "data": {
      "text/html": [
       "<div>\n",
       "<style scoped>\n",
       "    .dataframe tbody tr th:only-of-type {\n",
       "        vertical-align: middle;\n",
       "    }\n",
       "\n",
       "    .dataframe tbody tr th {\n",
       "        vertical-align: top;\n",
       "    }\n",
       "\n",
       "    .dataframe thead th {\n",
       "        text-align: right;\n",
       "    }\n",
       "</style>\n",
       "<table border=\"1\" class=\"dataframe\">\n",
       "  <thead>\n",
       "    <tr style=\"text-align: right;\">\n",
       "      <th></th>\n",
       "      <th>Unnamed: 0</th>\n",
       "      <th>BOROUGH</th>\n",
       "      <th>NEIGHBORHOOD</th>\n",
       "      <th>BUILDING CLASS CATEGORY</th>\n",
       "      <th>TAX CLASS AT PRESENT</th>\n",
       "      <th>BLOCK</th>\n",
       "      <th>LOT</th>\n",
       "      <th>EASE-MENT</th>\n",
       "      <th>BUILDING CLASS AT PRESENT</th>\n",
       "      <th>ADDRESS</th>\n",
       "      <th>...</th>\n",
       "      <th>RESIDENTIAL UNITS</th>\n",
       "      <th>COMMERCIAL UNITS</th>\n",
       "      <th>TOTAL UNITS</th>\n",
       "      <th>LAND SQUARE FEET</th>\n",
       "      <th>GROSS SQUARE FEET</th>\n",
       "      <th>YEAR BUILT</th>\n",
       "      <th>TAX CLASS AT TIME OF SALE</th>\n",
       "      <th>BUILDING CLASS AT TIME OF SALE</th>\n",
       "      <th>SALE PRICE</th>\n",
       "      <th>SALE DATE</th>\n",
       "    </tr>\n",
       "  </thead>\n",
       "  <tbody>\n",
       "    <tr>\n",
       "      <th>0</th>\n",
       "      <td>4</td>\n",
       "      <td>1</td>\n",
       "      <td>ALPHABET CITY</td>\n",
       "      <td>07 RENTALS - WALKUP APARTMENTS</td>\n",
       "      <td>2A</td>\n",
       "      <td>392</td>\n",
       "      <td>6</td>\n",
       "      <td></td>\n",
       "      <td>C2</td>\n",
       "      <td>153 AVENUE B</td>\n",
       "      <td>...</td>\n",
       "      <td>5</td>\n",
       "      <td>0</td>\n",
       "      <td>5</td>\n",
       "      <td>1633</td>\n",
       "      <td>6440</td>\n",
       "      <td>1900</td>\n",
       "      <td>2</td>\n",
       "      <td>C2</td>\n",
       "      <td>6625000</td>\n",
       "      <td>2017-07-19 00:00:00</td>\n",
       "    </tr>\n",
       "    <tr>\n",
       "      <th>1</th>\n",
       "      <td>5</td>\n",
       "      <td>1</td>\n",
       "      <td>ALPHABET CITY</td>\n",
       "      <td>07 RENTALS - WALKUP APARTMENTS</td>\n",
       "      <td>2</td>\n",
       "      <td>399</td>\n",
       "      <td>26</td>\n",
       "      <td></td>\n",
       "      <td>C7</td>\n",
       "      <td>234 EAST 4TH   STREET</td>\n",
       "      <td>...</td>\n",
       "      <td>28</td>\n",
       "      <td>3</td>\n",
       "      <td>31</td>\n",
       "      <td>4616</td>\n",
       "      <td>18690</td>\n",
       "      <td>1900</td>\n",
       "      <td>2</td>\n",
       "      <td>C7</td>\n",
       "      <td>-</td>\n",
       "      <td>2016-12-14 00:00:00</td>\n",
       "    </tr>\n",
       "    <tr>\n",
       "      <th>2</th>\n",
       "      <td>6</td>\n",
       "      <td>1</td>\n",
       "      <td>ALPHABET CITY</td>\n",
       "      <td>07 RENTALS - WALKUP APARTMENTS</td>\n",
       "      <td>2</td>\n",
       "      <td>399</td>\n",
       "      <td>39</td>\n",
       "      <td></td>\n",
       "      <td>C7</td>\n",
       "      <td>197 EAST 3RD   STREET</td>\n",
       "      <td>...</td>\n",
       "      <td>16</td>\n",
       "      <td>1</td>\n",
       "      <td>17</td>\n",
       "      <td>2212</td>\n",
       "      <td>7803</td>\n",
       "      <td>1900</td>\n",
       "      <td>2</td>\n",
       "      <td>C7</td>\n",
       "      <td>-</td>\n",
       "      <td>2016-12-09 00:00:00</td>\n",
       "    </tr>\n",
       "    <tr>\n",
       "      <th>3</th>\n",
       "      <td>7</td>\n",
       "      <td>1</td>\n",
       "      <td>ALPHABET CITY</td>\n",
       "      <td>07 RENTALS - WALKUP APARTMENTS</td>\n",
       "      <td>2B</td>\n",
       "      <td>402</td>\n",
       "      <td>21</td>\n",
       "      <td></td>\n",
       "      <td>C4</td>\n",
       "      <td>154 EAST 7TH STREET</td>\n",
       "      <td>...</td>\n",
       "      <td>10</td>\n",
       "      <td>0</td>\n",
       "      <td>10</td>\n",
       "      <td>2272</td>\n",
       "      <td>6794</td>\n",
       "      <td>1913</td>\n",
       "      <td>2</td>\n",
       "      <td>C4</td>\n",
       "      <td>3936272</td>\n",
       "      <td>2016-09-23 00:00:00</td>\n",
       "    </tr>\n",
       "    <tr>\n",
       "      <th>4</th>\n",
       "      <td>8</td>\n",
       "      <td>1</td>\n",
       "      <td>ALPHABET CITY</td>\n",
       "      <td>07 RENTALS - WALKUP APARTMENTS</td>\n",
       "      <td>2A</td>\n",
       "      <td>404</td>\n",
       "      <td>55</td>\n",
       "      <td></td>\n",
       "      <td>C2</td>\n",
       "      <td>301 EAST 10TH   STREET</td>\n",
       "      <td>...</td>\n",
       "      <td>6</td>\n",
       "      <td>0</td>\n",
       "      <td>6</td>\n",
       "      <td>2369</td>\n",
       "      <td>4615</td>\n",
       "      <td>1900</td>\n",
       "      <td>2</td>\n",
       "      <td>C2</td>\n",
       "      <td>8000000</td>\n",
       "      <td>2016-11-17 00:00:00</td>\n",
       "    </tr>\n",
       "  </tbody>\n",
       "</table>\n",
       "<p>5 rows × 22 columns</p>\n",
       "</div>"
      ],
      "text/plain": [
       "   Unnamed: 0  BOROUGH   NEIGHBORHOOD  \\\n",
       "0           4        1  ALPHABET CITY   \n",
       "1           5        1  ALPHABET CITY   \n",
       "2           6        1  ALPHABET CITY   \n",
       "3           7        1  ALPHABET CITY   \n",
       "4           8        1  ALPHABET CITY   \n",
       "\n",
       "                       BUILDING CLASS CATEGORY TAX CLASS AT PRESENT  BLOCK  \\\n",
       "0  07 RENTALS - WALKUP APARTMENTS                                2A    392   \n",
       "1  07 RENTALS - WALKUP APARTMENTS                                 2    399   \n",
       "2  07 RENTALS - WALKUP APARTMENTS                                 2    399   \n",
       "3  07 RENTALS - WALKUP APARTMENTS                                2B    402   \n",
       "4  07 RENTALS - WALKUP APARTMENTS                                2A    404   \n",
       "\n",
       "   LOT EASE-MENT BUILDING CLASS AT PRESENT                 ADDRESS  ...  \\\n",
       "0    6                                  C2            153 AVENUE B  ...   \n",
       "1   26                                  C7   234 EAST 4TH   STREET  ...   \n",
       "2   39                                  C7   197 EAST 3RD   STREET  ...   \n",
       "3   21                                  C4     154 EAST 7TH STREET  ...   \n",
       "4   55                                  C2  301 EAST 10TH   STREET  ...   \n",
       "\n",
       "  RESIDENTIAL UNITS  COMMERCIAL UNITS  TOTAL UNITS  LAND SQUARE FEET  \\\n",
       "0                 5                 0            5              1633   \n",
       "1                28                 3           31              4616   \n",
       "2                16                 1           17              2212   \n",
       "3                10                 0           10              2272   \n",
       "4                 6                 0            6              2369   \n",
       "\n",
       "   GROSS SQUARE FEET YEAR BUILT TAX CLASS AT TIME OF SALE  \\\n",
       "0               6440       1900                         2   \n",
       "1              18690       1900                         2   \n",
       "2               7803       1900                         2   \n",
       "3               6794       1913                         2   \n",
       "4               4615       1900                         2   \n",
       "\n",
       "   BUILDING CLASS AT TIME OF SALE  SALE PRICE            SALE DATE  \n",
       "0                              C2     6625000  2017-07-19 00:00:00  \n",
       "1                              C7         -    2016-12-14 00:00:00  \n",
       "2                              C7         -    2016-12-09 00:00:00  \n",
       "3                              C4     3936272  2016-09-23 00:00:00  \n",
       "4                              C2     8000000  2016-11-17 00:00:00  \n",
       "\n",
       "[5 rows x 22 columns]"
      ]
     },
     "execution_count": 2,
     "metadata": {},
     "output_type": "execute_result"
    }
   ],
   "source": [
    "# Using pandas to convert the csv file into a panda dataframe\n",
    "df = pd.read_csv(\"nyc-rolling-sales.csv\")\n",
    "df.head()"
   ]
  },
  {
   "cell_type": "code",
   "execution_count": 3,
   "id": "3e30b897",
   "metadata": {},
   "outputs": [
    {
     "data": {
      "text/plain": [
       "(84548, 22)"
      ]
     },
     "execution_count": 3,
     "metadata": {},
     "output_type": "execute_result"
    }
   ],
   "source": [
    "df.shape"
   ]
  },
  {
   "cell_type": "markdown",
   "id": "519eee64",
   "metadata": {},
   "source": [
    "We can observe using the shape function to observe that the dataframe has 84548 data points with 22 columns"
   ]
  },
  {
   "cell_type": "code",
   "execution_count": 4,
   "id": "0e34f475",
   "metadata": {},
   "outputs": [
    {
     "name": "stdout",
     "output_type": "stream",
     "text": [
      "<class 'pandas.core.frame.DataFrame'>\n",
      "RangeIndex: 84548 entries, 0 to 84547\n",
      "Data columns (total 22 columns):\n",
      " #   Column                          Non-Null Count  Dtype \n",
      "---  ------                          --------------  ----- \n",
      " 0   Unnamed: 0                      84548 non-null  int64 \n",
      " 1   BOROUGH                         84548 non-null  int64 \n",
      " 2   NEIGHBORHOOD                    84548 non-null  object\n",
      " 3   BUILDING CLASS CATEGORY         84548 non-null  object\n",
      " 4   TAX CLASS AT PRESENT            84548 non-null  object\n",
      " 5   BLOCK                           84548 non-null  int64 \n",
      " 6   LOT                             84548 non-null  int64 \n",
      " 7   EASE-MENT                       84548 non-null  object\n",
      " 8   BUILDING CLASS AT PRESENT       84548 non-null  object\n",
      " 9   ADDRESS                         84548 non-null  object\n",
      " 10  APARTMENT NUMBER                84548 non-null  object\n",
      " 11  ZIP CODE                        84548 non-null  int64 \n",
      " 12  RESIDENTIAL UNITS               84548 non-null  int64 \n",
      " 13  COMMERCIAL UNITS                84548 non-null  int64 \n",
      " 14  TOTAL UNITS                     84548 non-null  int64 \n",
      " 15  LAND SQUARE FEET                84548 non-null  object\n",
      " 16  GROSS SQUARE FEET               84548 non-null  object\n",
      " 17  YEAR BUILT                      84548 non-null  int64 \n",
      " 18  TAX CLASS AT TIME OF SALE       84548 non-null  int64 \n",
      " 19  BUILDING CLASS AT TIME OF SALE  84548 non-null  object\n",
      " 20  SALE PRICE                      84548 non-null  object\n",
      " 21  SALE DATE                       84548 non-null  object\n",
      "dtypes: int64(10), object(12)\n",
      "memory usage: 14.2+ MB\n"
     ]
    }
   ],
   "source": [
    "df.info()"
   ]
  },
  {
   "cell_type": "markdown",
   "id": "21c59821",
   "metadata": {},
   "source": [
    "## Cleaning the Data\n",
    " \n",
    "We clean the data to make our final analysis more precise and accurate. We convert the specific variables into floats to make the data easier to organize. We also need to set our sale data using the datetime function to convert it the date without the time."
   ]
  },
  {
   "cell_type": "code",
   "execution_count": 5,
   "id": "b6a2c46f",
   "metadata": {},
   "outputs": [
    {
     "data": {
      "text/html": [
       "<div>\n",
       "<style scoped>\n",
       "    .dataframe tbody tr th:only-of-type {\n",
       "        vertical-align: middle;\n",
       "    }\n",
       "\n",
       "    .dataframe tbody tr th {\n",
       "        vertical-align: top;\n",
       "    }\n",
       "\n",
       "    .dataframe thead th {\n",
       "        text-align: right;\n",
       "    }\n",
       "</style>\n",
       "<table border=\"1\" class=\"dataframe\">\n",
       "  <thead>\n",
       "    <tr style=\"text-align: right;\">\n",
       "      <th></th>\n",
       "      <th>Unnamed: 0</th>\n",
       "      <th>BOROUGH</th>\n",
       "      <th>NEIGHBORHOOD</th>\n",
       "      <th>BUILDING CLASS CATEGORY</th>\n",
       "      <th>TAX CLASS AT PRESENT</th>\n",
       "      <th>BLOCK</th>\n",
       "      <th>LOT</th>\n",
       "      <th>EASE-MENT</th>\n",
       "      <th>BUILDING CLASS AT PRESENT</th>\n",
       "      <th>ADDRESS</th>\n",
       "      <th>...</th>\n",
       "      <th>RESIDENTIAL UNITS</th>\n",
       "      <th>COMMERCIAL UNITS</th>\n",
       "      <th>TOTAL UNITS</th>\n",
       "      <th>LAND SQUARE FEET</th>\n",
       "      <th>GROSS SQUARE FEET</th>\n",
       "      <th>YEAR BUILT</th>\n",
       "      <th>TAX CLASS AT TIME OF SALE</th>\n",
       "      <th>BUILDING CLASS AT TIME OF SALE</th>\n",
       "      <th>SALE PRICE</th>\n",
       "      <th>SALE DATE</th>\n",
       "    </tr>\n",
       "  </thead>\n",
       "  <tbody>\n",
       "    <tr>\n",
       "      <th>0</th>\n",
       "      <td>4</td>\n",
       "      <td>Manhattan</td>\n",
       "      <td>ALPHABET CITY</td>\n",
       "      <td>07 RENTALS - WALKUP APARTMENTS</td>\n",
       "      <td>2A</td>\n",
       "      <td>392</td>\n",
       "      <td>6</td>\n",
       "      <td></td>\n",
       "      <td>C2</td>\n",
       "      <td>153 AVENUE B</td>\n",
       "      <td>...</td>\n",
       "      <td>5</td>\n",
       "      <td>0</td>\n",
       "      <td>5</td>\n",
       "      <td>1633</td>\n",
       "      <td>6440</td>\n",
       "      <td>1900</td>\n",
       "      <td>2</td>\n",
       "      <td>C2</td>\n",
       "      <td>6625000</td>\n",
       "      <td>2017-07-19 00:00:00</td>\n",
       "    </tr>\n",
       "    <tr>\n",
       "      <th>1</th>\n",
       "      <td>5</td>\n",
       "      <td>Manhattan</td>\n",
       "      <td>ALPHABET CITY</td>\n",
       "      <td>07 RENTALS - WALKUP APARTMENTS</td>\n",
       "      <td>2</td>\n",
       "      <td>399</td>\n",
       "      <td>26</td>\n",
       "      <td></td>\n",
       "      <td>C7</td>\n",
       "      <td>234 EAST 4TH   STREET</td>\n",
       "      <td>...</td>\n",
       "      <td>28</td>\n",
       "      <td>3</td>\n",
       "      <td>31</td>\n",
       "      <td>4616</td>\n",
       "      <td>18690</td>\n",
       "      <td>1900</td>\n",
       "      <td>2</td>\n",
       "      <td>C7</td>\n",
       "      <td>-</td>\n",
       "      <td>2016-12-14 00:00:00</td>\n",
       "    </tr>\n",
       "    <tr>\n",
       "      <th>2</th>\n",
       "      <td>6</td>\n",
       "      <td>Manhattan</td>\n",
       "      <td>ALPHABET CITY</td>\n",
       "      <td>07 RENTALS - WALKUP APARTMENTS</td>\n",
       "      <td>2</td>\n",
       "      <td>399</td>\n",
       "      <td>39</td>\n",
       "      <td></td>\n",
       "      <td>C7</td>\n",
       "      <td>197 EAST 3RD   STREET</td>\n",
       "      <td>...</td>\n",
       "      <td>16</td>\n",
       "      <td>1</td>\n",
       "      <td>17</td>\n",
       "      <td>2212</td>\n",
       "      <td>7803</td>\n",
       "      <td>1900</td>\n",
       "      <td>2</td>\n",
       "      <td>C7</td>\n",
       "      <td>-</td>\n",
       "      <td>2016-12-09 00:00:00</td>\n",
       "    </tr>\n",
       "    <tr>\n",
       "      <th>3</th>\n",
       "      <td>7</td>\n",
       "      <td>Manhattan</td>\n",
       "      <td>ALPHABET CITY</td>\n",
       "      <td>07 RENTALS - WALKUP APARTMENTS</td>\n",
       "      <td>2B</td>\n",
       "      <td>402</td>\n",
       "      <td>21</td>\n",
       "      <td></td>\n",
       "      <td>C4</td>\n",
       "      <td>154 EAST 7TH STREET</td>\n",
       "      <td>...</td>\n",
       "      <td>10</td>\n",
       "      <td>0</td>\n",
       "      <td>10</td>\n",
       "      <td>2272</td>\n",
       "      <td>6794</td>\n",
       "      <td>1913</td>\n",
       "      <td>2</td>\n",
       "      <td>C4</td>\n",
       "      <td>3936272</td>\n",
       "      <td>2016-09-23 00:00:00</td>\n",
       "    </tr>\n",
       "    <tr>\n",
       "      <th>4</th>\n",
       "      <td>8</td>\n",
       "      <td>Manhattan</td>\n",
       "      <td>ALPHABET CITY</td>\n",
       "      <td>07 RENTALS - WALKUP APARTMENTS</td>\n",
       "      <td>2A</td>\n",
       "      <td>404</td>\n",
       "      <td>55</td>\n",
       "      <td></td>\n",
       "      <td>C2</td>\n",
       "      <td>301 EAST 10TH   STREET</td>\n",
       "      <td>...</td>\n",
       "      <td>6</td>\n",
       "      <td>0</td>\n",
       "      <td>6</td>\n",
       "      <td>2369</td>\n",
       "      <td>4615</td>\n",
       "      <td>1900</td>\n",
       "      <td>2</td>\n",
       "      <td>C2</td>\n",
       "      <td>8000000</td>\n",
       "      <td>2016-11-17 00:00:00</td>\n",
       "    </tr>\n",
       "    <tr>\n",
       "      <th>...</th>\n",
       "      <td>...</td>\n",
       "      <td>...</td>\n",
       "      <td>...</td>\n",
       "      <td>...</td>\n",
       "      <td>...</td>\n",
       "      <td>...</td>\n",
       "      <td>...</td>\n",
       "      <td>...</td>\n",
       "      <td>...</td>\n",
       "      <td>...</td>\n",
       "      <td>...</td>\n",
       "      <td>...</td>\n",
       "      <td>...</td>\n",
       "      <td>...</td>\n",
       "      <td>...</td>\n",
       "      <td>...</td>\n",
       "      <td>...</td>\n",
       "      <td>...</td>\n",
       "      <td>...</td>\n",
       "      <td>...</td>\n",
       "      <td>...</td>\n",
       "    </tr>\n",
       "    <tr>\n",
       "      <th>84543</th>\n",
       "      <td>8409</td>\n",
       "      <td>Staten Island</td>\n",
       "      <td>WOODROW</td>\n",
       "      <td>02 TWO FAMILY DWELLINGS</td>\n",
       "      <td>1</td>\n",
       "      <td>7349</td>\n",
       "      <td>34</td>\n",
       "      <td></td>\n",
       "      <td>B9</td>\n",
       "      <td>37 QUAIL LANE</td>\n",
       "      <td>...</td>\n",
       "      <td>2</td>\n",
       "      <td>0</td>\n",
       "      <td>2</td>\n",
       "      <td>2400</td>\n",
       "      <td>2575</td>\n",
       "      <td>1998</td>\n",
       "      <td>1</td>\n",
       "      <td>B9</td>\n",
       "      <td>450000</td>\n",
       "      <td>2016-11-28 00:00:00</td>\n",
       "    </tr>\n",
       "    <tr>\n",
       "      <th>84544</th>\n",
       "      <td>8410</td>\n",
       "      <td>Staten Island</td>\n",
       "      <td>WOODROW</td>\n",
       "      <td>02 TWO FAMILY DWELLINGS</td>\n",
       "      <td>1</td>\n",
       "      <td>7349</td>\n",
       "      <td>78</td>\n",
       "      <td></td>\n",
       "      <td>B9</td>\n",
       "      <td>32 PHEASANT LANE</td>\n",
       "      <td>...</td>\n",
       "      <td>2</td>\n",
       "      <td>0</td>\n",
       "      <td>2</td>\n",
       "      <td>2498</td>\n",
       "      <td>2377</td>\n",
       "      <td>1998</td>\n",
       "      <td>1</td>\n",
       "      <td>B9</td>\n",
       "      <td>550000</td>\n",
       "      <td>2017-04-21 00:00:00</td>\n",
       "    </tr>\n",
       "    <tr>\n",
       "      <th>84545</th>\n",
       "      <td>8411</td>\n",
       "      <td>Staten Island</td>\n",
       "      <td>WOODROW</td>\n",
       "      <td>02 TWO FAMILY DWELLINGS</td>\n",
       "      <td>1</td>\n",
       "      <td>7351</td>\n",
       "      <td>60</td>\n",
       "      <td></td>\n",
       "      <td>B2</td>\n",
       "      <td>49 PITNEY AVENUE</td>\n",
       "      <td>...</td>\n",
       "      <td>2</td>\n",
       "      <td>0</td>\n",
       "      <td>2</td>\n",
       "      <td>4000</td>\n",
       "      <td>1496</td>\n",
       "      <td>1925</td>\n",
       "      <td>1</td>\n",
       "      <td>B2</td>\n",
       "      <td>460000</td>\n",
       "      <td>2017-07-05 00:00:00</td>\n",
       "    </tr>\n",
       "    <tr>\n",
       "      <th>84546</th>\n",
       "      <td>8412</td>\n",
       "      <td>Staten Island</td>\n",
       "      <td>WOODROW</td>\n",
       "      <td>22 STORE BUILDINGS</td>\n",
       "      <td>4</td>\n",
       "      <td>7100</td>\n",
       "      <td>28</td>\n",
       "      <td></td>\n",
       "      <td>K6</td>\n",
       "      <td>2730 ARTHUR KILL ROAD</td>\n",
       "      <td>...</td>\n",
       "      <td>0</td>\n",
       "      <td>7</td>\n",
       "      <td>7</td>\n",
       "      <td>208033</td>\n",
       "      <td>64117</td>\n",
       "      <td>2001</td>\n",
       "      <td>4</td>\n",
       "      <td>K6</td>\n",
       "      <td>11693337</td>\n",
       "      <td>2016-12-21 00:00:00</td>\n",
       "    </tr>\n",
       "    <tr>\n",
       "      <th>84547</th>\n",
       "      <td>8413</td>\n",
       "      <td>Staten Island</td>\n",
       "      <td>WOODROW</td>\n",
       "      <td>35 INDOOR PUBLIC AND CULTURAL FACILITIES</td>\n",
       "      <td>4</td>\n",
       "      <td>7105</td>\n",
       "      <td>679</td>\n",
       "      <td></td>\n",
       "      <td>P9</td>\n",
       "      <td>155 CLAY PIT ROAD</td>\n",
       "      <td>...</td>\n",
       "      <td>0</td>\n",
       "      <td>1</td>\n",
       "      <td>1</td>\n",
       "      <td>10796</td>\n",
       "      <td>2400</td>\n",
       "      <td>2006</td>\n",
       "      <td>4</td>\n",
       "      <td>P9</td>\n",
       "      <td>69300</td>\n",
       "      <td>2016-10-27 00:00:00</td>\n",
       "    </tr>\n",
       "  </tbody>\n",
       "</table>\n",
       "<p>84548 rows × 22 columns</p>\n",
       "</div>"
      ],
      "text/plain": [
       "       Unnamed: 0        BOROUGH   NEIGHBORHOOD  \\\n",
       "0               4      Manhattan  ALPHABET CITY   \n",
       "1               5      Manhattan  ALPHABET CITY   \n",
       "2               6      Manhattan  ALPHABET CITY   \n",
       "3               7      Manhattan  ALPHABET CITY   \n",
       "4               8      Manhattan  ALPHABET CITY   \n",
       "...           ...            ...            ...   \n",
       "84543        8409  Staten Island        WOODROW   \n",
       "84544        8410  Staten Island        WOODROW   \n",
       "84545        8411  Staten Island        WOODROW   \n",
       "84546        8412  Staten Island        WOODROW   \n",
       "84547        8413  Staten Island        WOODROW   \n",
       "\n",
       "                           BUILDING CLASS CATEGORY TAX CLASS AT PRESENT  \\\n",
       "0      07 RENTALS - WALKUP APARTMENTS                                2A   \n",
       "1      07 RENTALS - WALKUP APARTMENTS                                 2   \n",
       "2      07 RENTALS - WALKUP APARTMENTS                                 2   \n",
       "3      07 RENTALS - WALKUP APARTMENTS                                2B   \n",
       "4      07 RENTALS - WALKUP APARTMENTS                                2A   \n",
       "...                                            ...                  ...   \n",
       "84543  02 TWO FAMILY DWELLINGS                                        1   \n",
       "84544  02 TWO FAMILY DWELLINGS                                        1   \n",
       "84545  02 TWO FAMILY DWELLINGS                                        1   \n",
       "84546  22 STORE BUILDINGS                                             4   \n",
       "84547  35 INDOOR PUBLIC AND CULTURAL FACILITIES                       4   \n",
       "\n",
       "       BLOCK  LOT EASE-MENT BUILDING CLASS AT PRESENT                 ADDRESS  \\\n",
       "0        392    6                                  C2            153 AVENUE B   \n",
       "1        399   26                                  C7   234 EAST 4TH   STREET   \n",
       "2        399   39                                  C7   197 EAST 3RD   STREET   \n",
       "3        402   21                                  C4     154 EAST 7TH STREET   \n",
       "4        404   55                                  C2  301 EAST 10TH   STREET   \n",
       "...      ...  ...       ...                       ...                     ...   \n",
       "84543   7349   34                                  B9           37 QUAIL LANE   \n",
       "84544   7349   78                                  B9        32 PHEASANT LANE   \n",
       "84545   7351   60                                  B2        49 PITNEY AVENUE   \n",
       "84546   7100   28                                  K6   2730 ARTHUR KILL ROAD   \n",
       "84547   7105  679                                  P9       155 CLAY PIT ROAD   \n",
       "\n",
       "       ... RESIDENTIAL UNITS  COMMERCIAL UNITS  TOTAL UNITS  LAND SQUARE FEET  \\\n",
       "0      ...                 5                 0            5              1633   \n",
       "1      ...                28                 3           31              4616   \n",
       "2      ...                16                 1           17              2212   \n",
       "3      ...                10                 0           10              2272   \n",
       "4      ...                 6                 0            6              2369   \n",
       "...    ...               ...               ...          ...               ...   \n",
       "84543  ...                 2                 0            2              2400   \n",
       "84544  ...                 2                 0            2              2498   \n",
       "84545  ...                 2                 0            2              4000   \n",
       "84546  ...                 0                 7            7            208033   \n",
       "84547  ...                 0                 1            1             10796   \n",
       "\n",
       "       GROSS SQUARE FEET YEAR BUILT TAX CLASS AT TIME OF SALE  \\\n",
       "0                   6440       1900                         2   \n",
       "1                  18690       1900                         2   \n",
       "2                   7803       1900                         2   \n",
       "3                   6794       1913                         2   \n",
       "4                   4615       1900                         2   \n",
       "...                  ...        ...                       ...   \n",
       "84543               2575       1998                         1   \n",
       "84544               2377       1998                         1   \n",
       "84545               1496       1925                         1   \n",
       "84546              64117       2001                         4   \n",
       "84547               2400       2006                         4   \n",
       "\n",
       "       BUILDING CLASS AT TIME OF SALE  SALE PRICE            SALE DATE  \n",
       "0                                  C2     6625000  2017-07-19 00:00:00  \n",
       "1                                  C7         -    2016-12-14 00:00:00  \n",
       "2                                  C7         -    2016-12-09 00:00:00  \n",
       "3                                  C4     3936272  2016-09-23 00:00:00  \n",
       "4                                  C2     8000000  2016-11-17 00:00:00  \n",
       "...                               ...         ...                  ...  \n",
       "84543                              B9      450000  2016-11-28 00:00:00  \n",
       "84544                              B9      550000  2017-04-21 00:00:00  \n",
       "84545                              B2      460000  2017-07-05 00:00:00  \n",
       "84546                              K6    11693337  2016-12-21 00:00:00  \n",
       "84547                              P9       69300  2016-10-27 00:00:00  \n",
       "\n",
       "[84548 rows x 22 columns]"
      ]
     },
     "execution_count": 5,
     "metadata": {},
     "output_type": "execute_result"
    }
   ],
   "source": [
    "# We convert the boroughs into the actual names of them\n",
    "df['BOROUGH'] = df['BOROUGH'].astype(str)\n",
    "df['BOROUGH'].replace({'1':'Manhattan','2':'Bronx','3':'Brooklyn','4':'Queens','5':'Staten Island'},inplace=True)\n",
    "df"
   ]
  },
  {
   "cell_type": "code",
   "execution_count": 6,
   "id": "f839a385",
   "metadata": {},
   "outputs": [
    {
     "data": {
      "text/plain": [
       "Index(['unnamed:_0', 'borough', 'neighborhood', 'building_class_category',\n",
       "       'tax_class_at_present', 'block', 'lot', 'ease-ment',\n",
       "       'building_class_at_present', 'address', 'apartment_number', 'zip_code',\n",
       "       'residential_units', 'commercial_units', 'total_units',\n",
       "       'land_square_feet', 'gross_square_feet', 'year_built',\n",
       "       'tax_class_at_time_of_sale', 'building_class_at_time_of_sale',\n",
       "       'sale_price', 'sale_date'],\n",
       "      dtype='object')"
      ]
     },
     "execution_count": 6,
     "metadata": {},
     "output_type": "execute_result"
    }
   ],
   "source": [
    "# Update all the columns to lowercase\n",
    "df.columns = df.columns.str.replace(' ', '_')\n",
    "df.columns = df.columns.str.lower()\n",
    "df.columns"
   ]
  },
  {
   "cell_type": "code",
   "execution_count": 7,
   "id": "d5bc63fe",
   "metadata": {},
   "outputs": [],
   "source": [
    "# Update all of the variables that should be an integer for its dtype\n",
    "num_vars = ['residential_units', 'commercial_units', 'total_units', \n",
    "            'land_square_feet', 'gross_square_feet', 'sale_price']\n",
    "\n",
    "for col in num_vars:\n",
    "    df[col] = pd.to_numeric(df[col], errors = 'coerce')"
   ]
  },
  {
   "cell_type": "code",
   "execution_count": 8,
   "id": "02a22b9d",
   "metadata": {},
   "outputs": [],
   "source": [
    "# Update all of the variables that should be an category for its dtype\n",
    "cat_vars = ['neighborhood', 'building_class_category', 'tax_class_at_present', 'tax_class_at_time_of_sale',\n",
    "            'ease-ment', 'building_class_at_present', 'address', 'apartment_number',\n",
    "            'building_class_at_time_of_sale', 'block', 'lot', 'zip_code',]\n",
    "\n",
    "for col in cat_vars:\n",
    "    df[col] = df[col].astype('O')"
   ]
  },
  {
   "cell_type": "code",
   "execution_count": 9,
   "id": "644eb521",
   "metadata": {},
   "outputs": [],
   "source": [
    "# Using the to_datetime function\n",
    "df['sale_date'] = pd.to_datetime(df['sale_date'])"
   ]
  },
  {
   "cell_type": "code",
   "execution_count": 10,
   "id": "4364f1f2",
   "metadata": {},
   "outputs": [
    {
     "name": "stdout",
     "output_type": "stream",
     "text": [
      "<class 'pandas.core.frame.DataFrame'>\n",
      "RangeIndex: 84548 entries, 0 to 84547\n",
      "Data columns (total 22 columns):\n",
      " #   Column                          Non-Null Count  Dtype         \n",
      "---  ------                          --------------  -----         \n",
      " 0   unnamed:_0                      84548 non-null  int64         \n",
      " 1   borough                         84548 non-null  object        \n",
      " 2   neighborhood                    84548 non-null  object        \n",
      " 3   building_class_category         84548 non-null  object        \n",
      " 4   tax_class_at_present            84548 non-null  object        \n",
      " 5   block                           84548 non-null  object        \n",
      " 6   lot                             84548 non-null  object        \n",
      " 7   ease-ment                       84548 non-null  object        \n",
      " 8   building_class_at_present       84548 non-null  object        \n",
      " 9   address                         84548 non-null  object        \n",
      " 10  apartment_number                84548 non-null  object        \n",
      " 11  zip_code                        84548 non-null  object        \n",
      " 12  residential_units               84548 non-null  int64         \n",
      " 13  commercial_units                84548 non-null  int64         \n",
      " 14  total_units                     84548 non-null  int64         \n",
      " 15  land_square_feet                58296 non-null  float64       \n",
      " 16  gross_square_feet               56936 non-null  float64       \n",
      " 17  year_built                      84548 non-null  int64         \n",
      " 18  tax_class_at_time_of_sale       84548 non-null  object        \n",
      " 19  building_class_at_time_of_sale  84548 non-null  object        \n",
      " 20  sale_price                      69987 non-null  float64       \n",
      " 21  sale_date                       84548 non-null  datetime64[ns]\n",
      "dtypes: datetime64[ns](1), float64(3), int64(5), object(13)\n",
      "memory usage: 14.2+ MB\n"
     ]
    }
   ],
   "source": [
    "# Let's recheck the dtype using info function for our updated dataframe\n",
    "df.info()"
   ]
  },
  {
   "cell_type": "code",
   "execution_count": 11,
   "id": "ed255535",
   "metadata": {},
   "outputs": [
    {
     "data": {
      "text/plain": [
       "unnamed:_0                            0\n",
       "borough                               0\n",
       "neighborhood                          0\n",
       "building_class_category               0\n",
       "tax_class_at_present                  0\n",
       "block                                 0\n",
       "lot                                   0\n",
       "ease-ment                             0\n",
       "building_class_at_present             0\n",
       "address                               0\n",
       "apartment_number                      0\n",
       "zip_code                              0\n",
       "residential_units                     0\n",
       "commercial_units                      0\n",
       "total_units                           0\n",
       "land_square_feet                  26252\n",
       "gross_square_feet                 27612\n",
       "year_built                            0\n",
       "tax_class_at_time_of_sale             0\n",
       "building_class_at_time_of_sale        0\n",
       "sale_price                        14561\n",
       "sale_date                             0\n",
       "dtype: int64"
      ]
     },
     "execution_count": 11,
     "metadata": {},
     "output_type": "execute_result"
    }
   ],
   "source": [
    "# Lets check the number of null values in the dataframe\n",
    "df.isnull().sum()"
   ]
  },
  {
   "cell_type": "code",
   "execution_count": 12,
   "id": "4151d5d5",
   "metadata": {},
   "outputs": [],
   "source": [
    "# We can drop the duplicates using the function drop_duplicates()\n",
    "df = df.drop_duplicates()"
   ]
  },
  {
   "cell_type": "code",
   "execution_count": 13,
   "id": "084f836c",
   "metadata": {},
   "outputs": [],
   "source": [
    "# We can also drop the values that contains NAN \n",
    "df.dropna(inplace=True)"
   ]
  },
  {
   "cell_type": "code",
   "execution_count": 14,
   "id": "e6cf4536",
   "metadata": {},
   "outputs": [
    {
     "data": {
      "text/plain": [
       "unnamed:_0                        0\n",
       "borough                           0\n",
       "neighborhood                      0\n",
       "building_class_category           0\n",
       "tax_class_at_present              0\n",
       "block                             0\n",
       "lot                               0\n",
       "ease-ment                         0\n",
       "building_class_at_present         0\n",
       "address                           0\n",
       "apartment_number                  0\n",
       "zip_code                          0\n",
       "residential_units                 0\n",
       "commercial_units                  0\n",
       "total_units                       0\n",
       "land_square_feet                  0\n",
       "gross_square_feet                 0\n",
       "year_built                        0\n",
       "tax_class_at_time_of_sale         0\n",
       "building_class_at_time_of_sale    0\n",
       "sale_price                        0\n",
       "sale_date                         0\n",
       "dtype: int64"
      ]
     },
     "execution_count": 14,
     "metadata": {},
     "output_type": "execute_result"
    }
   ],
   "source": [
    "# Lets recheck again for the sum of the null values\n",
    "df.isnull().sum()"
   ]
  },
  {
   "cell_type": "code",
   "execution_count": 15,
   "id": "7270e1eb",
   "metadata": {},
   "outputs": [],
   "source": [
    "# To make our lives easier, we can calculate the age of the buildings \n",
    "df['age'] = 2023 - df['year_built']"
   ]
  },
  {
   "cell_type": "code",
   "execution_count": 16,
   "id": "338f30bd",
   "metadata": {},
   "outputs": [],
   "source": [
    "# We do not need these unnecessary columns\n",
    "df = df.drop(columns=['year_built', 'unnamed:_0'])"
   ]
  },
  {
   "cell_type": "code",
   "execution_count": 17,
   "id": "49cdb877",
   "metadata": {},
   "outputs": [
    {
     "name": "stdout",
     "output_type": "stream",
     "text": [
      "<class 'pandas.core.frame.DataFrame'>\n",
      "Int64Index: 48244 entries, 0 to 84547\n",
      "Data columns (total 21 columns):\n",
      " #   Column                          Non-Null Count  Dtype         \n",
      "---  ------                          --------------  -----         \n",
      " 0   borough                         48244 non-null  object        \n",
      " 1   neighborhood                    48244 non-null  object        \n",
      " 2   building_class_category         48244 non-null  object        \n",
      " 3   tax_class_at_present            48244 non-null  object        \n",
      " 4   block                           48244 non-null  object        \n",
      " 5   lot                             48244 non-null  object        \n",
      " 6   ease-ment                       48244 non-null  object        \n",
      " 7   building_class_at_present       48244 non-null  object        \n",
      " 8   address                         48244 non-null  object        \n",
      " 9   apartment_number                48244 non-null  object        \n",
      " 10  zip_code                        48244 non-null  object        \n",
      " 11  residential_units               48244 non-null  int64         \n",
      " 12  commercial_units                48244 non-null  int64         \n",
      " 13  total_units                     48244 non-null  int64         \n",
      " 14  land_square_feet                48244 non-null  float64       \n",
      " 15  gross_square_feet               48244 non-null  float64       \n",
      " 16  tax_class_at_time_of_sale       48244 non-null  object        \n",
      " 17  building_class_at_time_of_sale  48244 non-null  object        \n",
      " 18  sale_price                      48244 non-null  float64       \n",
      " 19  sale_date                       48244 non-null  datetime64[ns]\n",
      " 20  age                             48244 non-null  int64         \n",
      "dtypes: datetime64[ns](1), float64(3), int64(4), object(13)\n",
      "memory usage: 8.1+ MB\n"
     ]
    }
   ],
   "source": [
    "df.info()"
   ]
  },
  {
   "cell_type": "code",
   "execution_count": 18,
   "id": "9dc8a34e",
   "metadata": {},
   "outputs": [
    {
     "data": {
      "text/html": [
       "<div>\n",
       "<style scoped>\n",
       "    .dataframe tbody tr th:only-of-type {\n",
       "        vertical-align: middle;\n",
       "    }\n",
       "\n",
       "    .dataframe tbody tr th {\n",
       "        vertical-align: top;\n",
       "    }\n",
       "\n",
       "    .dataframe thead th {\n",
       "        text-align: right;\n",
       "    }\n",
       "</style>\n",
       "<table border=\"1\" class=\"dataframe\">\n",
       "  <thead>\n",
       "    <tr style=\"text-align: right;\">\n",
       "      <th></th>\n",
       "      <th>residential_units</th>\n",
       "      <th>commercial_units</th>\n",
       "      <th>total_units</th>\n",
       "      <th>land_square_feet</th>\n",
       "      <th>gross_square_feet</th>\n",
       "      <th>sale_price</th>\n",
       "      <th>age</th>\n",
       "    </tr>\n",
       "  </thead>\n",
       "  <tbody>\n",
       "    <tr>\n",
       "      <th>count</th>\n",
       "      <td>48244.000000</td>\n",
       "      <td>48244.000000</td>\n",
       "      <td>48244.000000</td>\n",
       "      <td>4.824400e+04</td>\n",
       "      <td>4.824400e+04</td>\n",
       "      <td>4.824400e+04</td>\n",
       "      <td>48244.000000</td>\n",
       "    </tr>\n",
       "    <tr>\n",
       "      <th>mean</th>\n",
       "      <td>2.566537</td>\n",
       "      <td>0.249171</td>\n",
       "      <td>2.834632</td>\n",
       "      <td>3.358117e+03</td>\n",
       "      <td>3.669753e+03</td>\n",
       "      <td>1.153281e+06</td>\n",
       "      <td>195.234827</td>\n",
       "    </tr>\n",
       "    <tr>\n",
       "      <th>std</th>\n",
       "      <td>17.465481</td>\n",
       "      <td>10.988072</td>\n",
       "      <td>20.750418</td>\n",
       "      <td>3.143590e+04</td>\n",
       "      <td>2.947491e+04</td>\n",
       "      <td>1.340131e+07</td>\n",
       "      <td>464.361153</td>\n",
       "    </tr>\n",
       "    <tr>\n",
       "      <th>min</th>\n",
       "      <td>0.000000</td>\n",
       "      <td>0.000000</td>\n",
       "      <td>0.000000</td>\n",
       "      <td>0.000000e+00</td>\n",
       "      <td>0.000000e+00</td>\n",
       "      <td>0.000000e+00</td>\n",
       "      <td>6.000000</td>\n",
       "    </tr>\n",
       "    <tr>\n",
       "      <th>25%</th>\n",
       "      <td>1.000000</td>\n",
       "      <td>0.000000</td>\n",
       "      <td>1.000000</td>\n",
       "      <td>1.413000e+03</td>\n",
       "      <td>8.280000e+02</td>\n",
       "      <td>8.042000e+04</td>\n",
       "      <td>62.000000</td>\n",
       "    </tr>\n",
       "    <tr>\n",
       "      <th>50%</th>\n",
       "      <td>1.000000</td>\n",
       "      <td>0.000000</td>\n",
       "      <td>1.000000</td>\n",
       "      <td>2.140000e+03</td>\n",
       "      <td>1.620000e+03</td>\n",
       "      <td>4.800000e+05</td>\n",
       "      <td>92.000000</td>\n",
       "    </tr>\n",
       "    <tr>\n",
       "      <th>75%</th>\n",
       "      <td>2.000000</td>\n",
       "      <td>0.000000</td>\n",
       "      <td>2.000000</td>\n",
       "      <td>3.071000e+03</td>\n",
       "      <td>2.520000e+03</td>\n",
       "      <td>8.300000e+05</td>\n",
       "      <td>103.000000</td>\n",
       "    </tr>\n",
       "    <tr>\n",
       "      <th>max</th>\n",
       "      <td>1844.000000</td>\n",
       "      <td>2261.000000</td>\n",
       "      <td>2261.000000</td>\n",
       "      <td>4.228300e+06</td>\n",
       "      <td>3.750565e+06</td>\n",
       "      <td>2.210000e+09</td>\n",
       "      <td>2023.000000</td>\n",
       "    </tr>\n",
       "  </tbody>\n",
       "</table>\n",
       "</div>"
      ],
      "text/plain": [
       "       residential_units  commercial_units   total_units  land_square_feet  \\\n",
       "count       48244.000000      48244.000000  48244.000000      4.824400e+04   \n",
       "mean            2.566537          0.249171      2.834632      3.358117e+03   \n",
       "std            17.465481         10.988072     20.750418      3.143590e+04   \n",
       "min             0.000000          0.000000      0.000000      0.000000e+00   \n",
       "25%             1.000000          0.000000      1.000000      1.413000e+03   \n",
       "50%             1.000000          0.000000      1.000000      2.140000e+03   \n",
       "75%             2.000000          0.000000      2.000000      3.071000e+03   \n",
       "max          1844.000000       2261.000000   2261.000000      4.228300e+06   \n",
       "\n",
       "       gross_square_feet    sale_price           age  \n",
       "count       4.824400e+04  4.824400e+04  48244.000000  \n",
       "mean        3.669753e+03  1.153281e+06    195.234827  \n",
       "std         2.947491e+04  1.340131e+07    464.361153  \n",
       "min         0.000000e+00  0.000000e+00      6.000000  \n",
       "25%         8.280000e+02  8.042000e+04     62.000000  \n",
       "50%         1.620000e+03  4.800000e+05     92.000000  \n",
       "75%         2.520000e+03  8.300000e+05    103.000000  \n",
       "max         3.750565e+06  2.210000e+09   2023.000000  "
      ]
     },
     "execution_count": 18,
     "metadata": {},
     "output_type": "execute_result"
    }
   ],
   "source": [
    "# Since this is a large dataset, we can proceed to analyze the different quadrants of the data in order to make our data smaller\n",
    "df.describe()"
   ]
  },
  {
   "cell_type": "markdown",
   "id": "54e7ba59",
   "metadata": {},
   "source": [
    "After analyzing, we can infer that the 75% percentile is the most effective to achieve feasible results from our data table. There is a large amount of sale prices below the $1,000 so we can remove those properties while also making sure the land square feet is less than the gross square feet. \n"
   ]
  },
  {
   "cell_type": "code",
   "execution_count": 19,
   "id": "e9bf9384",
   "metadata": {},
   "outputs": [],
   "source": [
    "df = df[(df['sale_price'] < 2000000) #limit up to $2,000,000 \n",
    "                       & (df['sale_price'] > 1000) #removes all properties less than $1,000\n",
    "                       & (df['land_square_feet'] < df['gross_square_feet']) #removes instances where land sf is greater than gross sf\n",
    "                       & (df['gross_square_feet'] < 2500) #removes instances where gross sf is greater than 2530 SF\n",
    "                       & (df['gross_square_feet'] > 200)] #removes instances where gross sf is less than 120 SF"
   ]
  },
  {
   "cell_type": "markdown",
   "id": "d8758bfc",
   "metadata": {},
   "source": [
    "## Exploratory Data"
   ]
  },
  {
   "cell_type": "code",
   "execution_count": 20,
   "id": "01a52ab4",
   "metadata": {},
   "outputs": [
    {
     "data": {
      "image/png": "[encoded data removed]",
      "text/plain": [
       "<Figure size 360x360 with 1 Axes>"
      ]
     },
     "metadata": {
      "needs_background": "light"
     },
     "output_type": "display_data"
    }
   ],
   "source": [
    "# Lets observe the number of buildings sold in each borough using displot from seaborn\n",
    "sns.displot(data=df, x = df.borough, kind=\"hist\", binwidth = 5, color = 'skyblue')\n",
    "plt.title(\"Buildings Sold In Each Borough\")\n",
    "plt.show()"
   ]
  },
  {
   "cell_type": "markdown",
   "id": "53533989",
   "metadata": {},
   "source": [
    "Brooklyn has the greatest amount of buildings sold while Manhattan has the lowest. This makes sense because the Metropolitan is known for their expensive rent while Brooklyn is affordable and in the middle of Queens and Manhattan for traveling convenience. This can be attractive for young and older adults."
   ]
  },
  {
   "cell_type": "code",
   "execution_count": 21,
   "id": "b4bf09c0",
   "metadata": {},
   "outputs": [
    {
     "data": {
      "image/png": "[encoded data removed]",
      "text/plain": [
       "<Figure size 432x288 with 1 Axes>"
      ]
     },
     "metadata": {
      "needs_background": "light"
     },
     "output_type": "display_data"
    },
    {
     "data": {
      "text/plain": [
       "<Figure size 432x288 with 0 Axes>"
      ]
     },
     "metadata": {},
     "output_type": "display_data"
    }
   ],
   "source": [
    "# Lets observe the prices of the buildings altogether\n",
    "sns.histplot(data = df, x = 'sale_price', color = 'skyblue')\n",
    "plt.title('Density of Sale Price')\n",
    "plt.xlabel('Sale Price in Millions')\n",
    "plt.ylabel('Count')\n",
    "plt.show()\n",
    "plt.clf()"
   ]
  },
  {
   "cell_type": "markdown",
   "id": "0af3557d",
   "metadata": {},
   "source": [
    "This distribution plot is right skewed or negatively skewed. This describes how the mean is greater than the median as you can most of the buildings that were sold were around 250K ~ 500K. This is realistic because the middle class is the most common throughout the 5 boroughs."
   ]
  },
  {
   "cell_type": "code",
   "execution_count": 22,
   "id": "2dc096cd",
   "metadata": {
    "scrolled": true
   },
   "outputs": [
    {
     "data": {
      "image/png": "[encoded data removed]",
      "text/plain": [
       "<Figure size 432x288 with 1 Axes>"
      ]
     },
     "metadata": {
      "needs_background": "light"
     },
     "output_type": "display_data"
    },
    {
     "data": {
      "image/png": "[encoded data removed]",
      "text/plain": [
       "<Figure size 432x288 with 1 Axes>"
      ]
     },
     "metadata": {
      "needs_background": "light"
     },
     "output_type": "display_data"
    },
    {
     "data": {
      "image/png": "[encoded data removed]",
      "text/plain": [
       "<Figure size 432x288 with 1 Axes>"
      ]
     },
     "metadata": {
      "needs_background": "light"
     },
     "output_type": "display_data"
    },
    {
     "data": {
      "text/plain": [
       "<Figure size 432x288 with 0 Axes>"
      ]
     },
     "metadata": {},
     "output_type": "display_data"
    }
   ],
   "source": [
    "# More visualizations to help us understand the data\n",
    "sns.boxplot(x = 'borough', y = 'sale_price', data = df, palette = 'Set1')\n",
    "plt.title('Sale Price In Each Borough')\n",
    "plt.xlabel('Borough')\n",
    "plt.ylabel('Sale Price in Millions')\n",
    "plt.show()\n",
    "\n",
    "sns.boxplot(x = 'borough', y = 'gross_square_feet', data = df, palette = 'Set1')\n",
    "plt.title('Gross Square Feet in Each Borough')\n",
    "plt.xlabel('Borough')\n",
    "plt.ylabel('Gross Square Feet')\n",
    "plt.show()\n",
    "plt.clf()\n",
    "\n",
    "sns.scatterplot(x = 'sale_price', y = 'gross_square_feet', data = df, hue = 'gross_square_feet')\n",
    "plt.title('Sale Price Vs. Gross Square Feet')\n",
    "plt.xlabel('Sale Price')\n",
    "plt.ylabel('Gross Square Feet')\n",
    "plt.show()\n",
    "plt.clf()"
   ]
  },
  {
   "cell_type": "markdown",
   "id": "6ce732e0",
   "metadata": {},
   "source": [
    "## Analyzing the Data "
   ]
  },
  {
   "cell_type": "markdown",
   "id": "69fce789",
   "metadata": {},
   "source": [
    "Now that we have a better understanding of what the prices and other variables represent, we can utilize a heat map displaying the correlation to determine the relationship between variables."
   ]
  },
  {
   "cell_type": "code",
   "execution_count": 23,
   "id": "e5dca2b1",
   "metadata": {},
   "outputs": [
    {
     "data": {
      "image/png": "[encoded data removed]",
      "text/plain": [
       "<Figure size 720x720 with 2 Axes>"
      ]
     },
     "metadata": {
      "needs_background": "light"
     },
     "output_type": "display_data"
    },
    {
     "data": {
      "text/plain": [
       "<Figure size 432x288 with 0 Axes>"
      ]
     },
     "metadata": {},
     "output_type": "display_data"
    }
   ],
   "source": [
    "corrmat = df.corr()\n",
    "f, ax = plt.subplots(figsize=(10, 10))\n",
    "sns.heatmap(corrmat, cmap = 'coolwarm', square=True, annot= True, annot_kws={\"size\": 9}, vmin=-1, vmax=1)\n",
    "plt.title('Variable Correlation')\n",
    "plt.show()\n",
    "plt.clf()"
   ]
  },
  {
   "cell_type": "markdown",
   "id": "7448c4ff",
   "metadata": {},
   "source": [
    "Weak Correlation:                 \n",
    "Sale Price vs Commercial Units                                            \n",
    "\n",
    "Moderate Correlation:             \n",
    "Sale Price vs Residential Units                   \n",
    "Sale Price vs Total Units                         \n",
    "Sale Price vs Land Square Feet  \n",
    "Sale Price vs Gross Square Feet                \n",
    "Sale Price vs Age"
   ]
  },
  {
   "cell_type": "code",
   "execution_count": 24,
   "id": "93d26c0a",
   "metadata": {},
   "outputs": [],
   "source": [
    "# We can set up our x and y variables for multiple linear regression test\n",
    "x = df[['residential_units','total_units','land_square_feet', 'gross_square_feet', 'age']]\n",
    "y = df[['sale_price']]"
   ]
  },
  {
   "cell_type": "code",
   "execution_count": 25,
   "id": "aecec697",
   "metadata": {},
   "outputs": [
    {
     "data": {
      "text/plain": [
       "LinearRegression()"
      ]
     },
     "execution_count": 25,
     "metadata": {},
     "output_type": "execute_result"
    }
   ],
   "source": [
    "# We train and fit our model using Linear Regression\n",
    "x_train, x_test, y_train, y_test = train_test_split(x,y, test_size = 0.2)\n",
    "model = LinearRegression()\n",
    "model.fit(x_train, y_train)"
   ]
  },
  {
   "cell_type": "code",
   "execution_count": 26,
   "id": "51a9d948",
   "metadata": {},
   "outputs": [],
   "source": [
    "# We can test our model using the predict function\n",
    "y_pred = model.predict(x_test)"
   ]
  },
  {
   "cell_type": "code",
   "execution_count": 27,
   "id": "711a06e9",
   "metadata": {},
   "outputs": [
    {
     "data": {
      "image/png": "[encoded data removed]",
      "text/plain": [
       "<Figure size 432x288 with 1 Axes>"
      ]
     },
     "metadata": {
      "needs_background": "light"
     },
     "output_type": "display_data"
    }
   ],
   "source": [
    "# We can display the actual and predicted values for our test\n",
    "plt.scatter(y_test, y_pred, alpha = 0.3)\n",
    "plt.title('Actual vs Predicted')\n",
    "plt.show()"
   ]
  },
  {
   "cell_type": "code",
   "execution_count": 28,
   "id": "361da4fc",
   "metadata": {},
   "outputs": [
    {
     "data": {
      "text/plain": [
       "0.17793522998950628"
      ]
     },
     "execution_count": 28,
     "metadata": {},
     "output_type": "execute_result"
    }
   ],
   "source": [
    "model.score(x_test, y_test)"
   ]
  },
  {
   "cell_type": "code",
   "execution_count": 29,
   "id": "a50e72e0",
   "metadata": {},
   "outputs": [
    {
     "data": {
      "text/plain": [
       "array([[12146.82456896, 51070.78265748,   -88.0536287 ,   260.85334504,\n",
       "         2972.77282608]])"
      ]
     },
     "execution_count": 29,
     "metadata": {},
     "output_type": "execute_result"
    }
   ],
   "source": [
    "model.coef_"
   ]
  },
  {
   "cell_type": "code",
   "execution_count": 30,
   "id": "76ed63fd",
   "metadata": {},
   "outputs": [
    {
     "data": {
      "text/html": [
       "<div>\n",
       "<style scoped>\n",
       "    .dataframe tbody tr th:only-of-type {\n",
       "        vertical-align: middle;\n",
       "    }\n",
       "\n",
       "    .dataframe tbody tr th {\n",
       "        vertical-align: top;\n",
       "    }\n",
       "\n",
       "    .dataframe thead th {\n",
       "        text-align: right;\n",
       "    }\n",
       "</style>\n",
       "<table border=\"1\" class=\"dataframe\">\n",
       "  <thead>\n",
       "    <tr style=\"text-align: right;\">\n",
       "      <th></th>\n",
       "      <th>residential_units</th>\n",
       "      <th>total_units</th>\n",
       "      <th>land_square_feet</th>\n",
       "      <th>gross_square_feet</th>\n",
       "      <th>age</th>\n",
       "    </tr>\n",
       "  </thead>\n",
       "  <tbody>\n",
       "    <tr>\n",
       "      <th>0</th>\n",
       "      <td>12146.824569</td>\n",
       "      <td>51070.782657</td>\n",
       "      <td>-88.053629</td>\n",
       "      <td>260.853345</td>\n",
       "      <td>2972.772826</td>\n",
       "    </tr>\n",
       "  </tbody>\n",
       "</table>\n",
       "</div>"
      ],
      "text/plain": [
       "   residential_units   total_units  land_square_feet  gross_square_feet  \\\n",
       "0       12146.824569  51070.782657        -88.053629         260.853345   \n",
       "\n",
       "           age  \n",
       "0  2972.772826  "
      ]
     },
     "execution_count": 30,
     "metadata": {},
     "output_type": "execute_result"
    }
   ],
   "source": [
    "coef_df = pd.DataFrame(data = model.coef_, columns = ['residential_units','total_units','land_square_feet', 'gross_square_feet', 'age'])\n",
    "coef_df"
   ]
  },
  {
   "cell_type": "markdown",
   "id": "28d72aa3",
   "metadata": {},
   "source": [
    "For Every One Unit of Increase:\n",
    "\n",
    "Residential Units is correlated with a 24,522.41 USD decrease in Sale Price              \n",
    "Total Units is correlated with a 33,107 USD in Sale Price                 \n",
    "Land Square Feet is correlated with a 75.82 USD decrease in Sale Price                        \n",
    "Gross Square Feet is correlated with a 235.55 USD feet increase in Sale Price                     \n",
    "Age is correlated with a 3,064.98 USD increase in Sale Price                  "
   ]
  },
  {
   "cell_type": "markdown",
   "id": "eb186ca6",
   "metadata": {},
   "source": [
    "## Conclusion"
   ]
  },
  {
   "cell_type": "markdown",
   "id": "0f2b4009",
   "metadata": {},
   "source": [
    "In conclusion, the linear regression analysis of property sales in NYC over a 12-month period revealed several key findings. Firstly, the study found that there is a strong correlation between the number of residential units and sale price, with a decrease of 24,522.41 USD for every one unit of increase. Additionally, the study found that the total number of units is also strongly correlated with sale price, with an increase of 33,107 USD for every one unit of increase.\n",
    "\n",
    "Furthermore, the study also found that there is a correlation between land square feet and sale price, with a decrease of 75.82 USD for every one unit of increase. On the other hand, the study found that gross square feet is correlated with an increase in sale price, with an increase of 235.55 USD for every one unit of increase. Lastly, age of the property also had a positive correlation with sale price, with an increase of 3,064.98 USD for every one unit of increase. Overall, the model score for this analysis is 0.177, indicating a low level of accuracy. \n",
    "\n",
    "We can conclude that our independent variables are not correlating enough information to bring enough change in the value of our depedent variables. The score from our model indicates a value of 0.177. THis low score explains how the variables from this sales data help us infer that these variables do not have a large effect on how much the buildings were sold. "
   ]
  }
 ],
 "metadata": {
  "kernelspec": {
   "display_name": "Python 3 (ipykernel)",
   "language": "python",
   "name": "python3"
  },
  "language_info": {
   "codemirror_mode": {
    "name": "ipython",
    "version": 3
   },
   "file_extension": ".py",
   "mimetype": "text/x-python",
   "name": "python",
   "nbconvert_exporter": "python",
   "pygments_lexer": "ipython3",
   "version": "3.9.12"
  }
 },
 "nbformat": 4,
 "nbformat_minor": 5
}
